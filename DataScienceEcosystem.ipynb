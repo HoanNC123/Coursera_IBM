{
 "cells": [
  {
   "cell_type": "markdown",
   "metadata": {},
   "source": [
    "<center>\n",
    "    <img src=\"https://cf-courses-data.s3.us.cloud-object-storage.appdomain.cloud/IBMDeveloperSkillsNetwork-DS0105EN-SkillsNetwork/labs/Module2/images/SN_web_lightmode.png\" width=\"300\" alt=\"cognitiveclass.ai logo\">\n",
    "</center>\n"
   ]
  },
  {
   "cell_type": "markdown",
   "metadata": {},
   "source": [
    "#### Add your code below following the instructions given in the course\n"
   ]
  },
  {
   "cell_type": "code",
   "execution_count": 1,
   "metadata": {
    "tags": []
   },
   "outputs": [],
   "source": [
    "## Data Science Tools and Ecosystem"
   ]
  },
  {
   "cell_type": "code",
   "execution_count": 2,
   "metadata": {
    "tags": []
   },
   "outputs": [],
   "source": [
    "## In this notebook, Data Science Tools and Ecosystem are summarized."
   ]
  },
  {
   "cell_type": "code",
   "execution_count": 16,
   "metadata": {
    "tags": []
   },
   "outputs": [
    {
     "data": {
      "text/markdown": [
       "\n",
       "## Objectives:\n",
       "\n",
       "* **List popular languages for Data Science.**\n",
       "* **Introduce commonly used libraries in Data Science.**\n",
       "* **Present development environment open source tools for Data Science.**\n",
       "* **Explore data manipulation and analysis techniques.**\n",
       "* **Provide an overview of machine learning algorithms.**\n",
       "* **Demonstrate data visualization techniques for insights extraction.**\n"
      ],
      "text/plain": [
       "<IPython.core.display.Markdown object>"
      ]
     },
     "metadata": {},
     "output_type": "display_data"
    }
   ],
   "source": [
    "from IPython.display import Markdown\n",
    "\n",
    "# Create a markdown cell with bold title and unordered list\n",
    "md = Markdown(\"\"\"\n",
    "## Objectives:\n",
    "\n",
    "* **List popular languages for Data Science.**\n",
    "* **Introduce commonly used libraries in Data Science.**\n",
    "* **Present development environment open source tools for Data Science.**\n",
    "* **Explore data manipulation and analysis techniques.**\n",
    "* **Provide an overview of machine learning algorithms.**\n",
    "* **Demonstrate data visualization techniques for insights extraction.**\n",
    "\"\"\")\n",
    "\n",
    "# Display the markdown cell\n",
    "display(md)"
   ]
  },
  {
   "cell_type": "code",
   "execution_count": 3,
   "metadata": {
    "tags": []
   },
   "outputs": [
    {
     "name": "stdout",
     "output_type": "stream",
     "text": [
      "## Some of the popular languages that Data Scientists use are:\n",
      "1. Python\n",
      "2. R\n",
      "3. SQL\n",
      "4. Julia\n"
     ]
    }
   ],
   "source": [
    "print(\"## Some of the popular languages that Data Scientists use are:\")\n",
    "\n",
    "languages = [\"Python\", \"R\", \"SQL\", \"Julia\"]\n",
    "\n",
    "for index, language in enumerate(languages):\n",
    "    # Print the numbered list item with the language name\n",
    "    print(f\"{index + 1}. {language}\")"
   ]
  },
  {
   "cell_type": "code",
   "execution_count": 8,
   "metadata": {
    "tags": []
   },
   "outputs": [
    {
     "name": "stdout",
     "output_type": "stream",
     "text": [
      "## Some of the commonly used libraries used by Data Scientists include:\n",
      "1. NumPy\n",
      "2. Pandas\n",
      "3. Scikit-learn\n",
      "4. Matplotlib\n"
     ]
    }
   ],
   "source": [
    "print(\"## Some of the commonly used libraries used by Data Scientists include:\")\n",
    "\n",
    "# Define a list of libraries and their descriptions\n",
    "libraries = [\"NumPy\", \"Pandas\", \"Scikit-learn\", \"Matplotlib\"]\n",
    "\n",
    "for index, libraries in enumerate(libraries):\n",
    "    print(f\"{index + 1}. {libraries}\")"
   ]
  },
  {
   "cell_type": "code",
   "execution_count": 12,
   "metadata": {
    "tags": []
   },
   "outputs": [
    {
     "name": "stdout",
     "output_type": "stream",
     "text": [
      "Collecting tabulate\n",
      "  Downloading tabulate-0.9.0-py3-none-any.whl (35 kB)\n",
      "Installing collected packages: tabulate\n",
      "Successfully installed tabulate-0.9.0\n",
      "| Data Science Tools   |\n",
      "|:---------------------|\n",
      "| Jupyter Notebook     |\n",
      "| Rstudio              |\n",
      "| Spyder               |\n"
     ]
    }
   ],
   "source": [
    "!pip install tabulate\n",
    "from tabulate import tabulate\n",
    "import pandas as pd\n",
    "\n",
    "\n",
    "# Create a list of tools\n",
    "tools = [\"Jupyter Notebook\", \"Rstudio\", \"Spyder\"]\n",
    "\n",
    "# Create a dataframe with the tools\n",
    "df = pd.DataFrame(tools, columns=[\"Data Science Tools\"])\n",
    "\n",
    "# Display the dataframe\n",
    "print(df.to_markdown(index=False))"
   ]
  },
  {
   "cell_type": "code",
   "execution_count": 13,
   "metadata": {
    "tags": []
   },
   "outputs": [],
   "source": [
    "##Below are a few examples of evaluating arithmetic expressions in Python.\n"
   ]
  },
  {
   "cell_type": "code",
   "execution_count": 14,
   "metadata": {
    "tags": []
   },
   "outputs": [
    {
     "data": {
      "text/plain": [
       "17"
      ]
     },
     "execution_count": 14,
     "metadata": {},
     "output_type": "execute_result"
    }
   ],
   "source": [
    "##This a simple arithmetic expression to mutiply then add integers\n",
    "(3*4)+5"
   ]
  },
  {
   "cell_type": "code",
   "execution_count": 15,
   "metadata": {
    "tags": []
   },
   "outputs": [
    {
     "name": "stdout",
     "output_type": "stream",
     "text": [
      "3.3333333333333335\n"
     ]
    }
   ],
   "source": [
    "### This will convert 200 minutes to hours by diving by 60\n",
    "hours = 200 / 60\n",
    "print(hours)"
   ]
  },
  {
   "cell_type": "code",
   "execution_count": 17,
   "metadata": {
    "tags": []
   },
   "outputs": [
    {
     "data": {
      "text/markdown": [
       "\n",
       "## Author\n",
       "\n",
       "Hoan\n"
      ],
      "text/plain": [
       "<IPython.core.display.Markdown object>"
      ]
     },
     "metadata": {},
     "output_type": "display_data"
    }
   ],
   "source": [
    "from IPython.display import Markdown\n",
    "\n",
    "# Create a markdown cell with H2 style heading and author name\n",
    "md = Markdown(\"\"\"\n",
    "## Author\n",
    "\n",
    "Hoan\n",
    "\"\"\")\n",
    "\n",
    "# Display the markdown cell\n",
    "display(md)"
   ]
  },
  {
   "cell_type": "code",
   "execution_count": null,
   "metadata": {},
   "outputs": [],
   "source": []
  },
  {
   "cell_type": "code",
   "execution_count": null,
   "metadata": {},
   "outputs": [],
   "source": []
  },
  {
   "cell_type": "code",
   "execution_count": null,
   "metadata": {},
   "outputs": [],
   "source": []
  },
  {
   "cell_type": "code",
   "execution_count": null,
   "metadata": {},
   "outputs": [],
   "source": []
  },
  {
   "cell_type": "code",
   "execution_count": null,
   "metadata": {},
   "outputs": [],
   "source": []
  },
  {
   "cell_type": "code",
   "execution_count": null,
   "metadata": {},
   "outputs": [],
   "source": []
  }
 ],
 "metadata": {
  "kernelspec": {
   "display_name": "Python",
   "language": "python",
   "name": "conda-env-python-py"
  },
  "language_info": {
   "codemirror_mode": {
    "name": "ipython",
    "version": 3
   },
   "file_extension": ".py",
   "mimetype": "text/x-python",
   "name": "python",
   "nbconvert_exporter": "python",
   "pygments_lexer": "ipython3",
   "version": "3.7.12"
  }
 },
 "nbformat": 4,
 "nbformat_minor": 4
}
